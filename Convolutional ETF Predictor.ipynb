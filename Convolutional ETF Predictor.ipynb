{
 "cells": [
  {
   "cell_type": "markdown",
   "metadata": {},
   "source": [
    "Start dates for the ETFs:\n",
    "- Communication Services (XLC): 2018-06-19\n",
    "- Consumer Discretionary (XLY): 1998-12-22\n",
    "- Consumer Staples (XLP): 1998-12-22\n",
    "- Energy (XLE): 1998-12-22\n",
    "- Financials (XLF): 1998-12-22\n",
    "- Health Care (XLV): 1998-12-22\n",
    "- Industrials (XLI): 1998-12-22\n",
    "- Materials (XLB): 1998-12-22\n",
    "- Real Estate (XLRE): 2015-10-08\n",
    "- Technology (XLK): 1998-12-22\n",
    "- Utilities (XLU): 1998-12-22"
   ]
  },
  {
   "cell_type": "code",
   "execution_count": 1,
   "metadata": {},
   "outputs": [],
   "source": [
    "import matplotlib.pyplot as plt\n",
    "import numpy as np\n",
    "import pandas as pd\n",
    "import pandas_datareader as pdr\n",
    "from sklearn.metrics import confusion_matrix, accuracy_score\n",
    "from sklearn.model_selection import train_test_split\n",
    "from tensorflow import keras\n",
    "from tensorflow.keras import layers\n",
    "from tensorflow.keras.models import Model\n",
    "from tensorflow.random import set_seed as tf_seed\n",
    "\n",
    "from api_key import TIINGO_API_KEY   #personal file with Tiingo API key"
   ]
  },
  {
   "cell_type": "code",
   "execution_count": 2,
   "metadata": {},
   "outputs": [],
   "source": [
    "FULL_ETFS = [\"XLY\", \"XLP\", \"XLE\", \"XLF\", \"XLV\", \"XLI\", \"XLB\", \"XLK\", \"XLU\"]  #sector ETFs going back to 1998-12-22\n",
    "PAST_WINDOW_LENGTH = 250    # number of past days to use in prediction\n",
    "FUTURE_PREDICTION_TIME = 100  # number of days in the future to predict"
   ]
  },
  {
   "cell_type": "markdown",
   "metadata": {},
   "source": [
    "### Download and save data (not necessary if old data is present and doesn't need updating for your test)"
   ]
  },
  {
   "cell_type": "code",
   "execution_count": 3,
   "metadata": {},
   "outputs": [],
   "source": [
    "def download_and_save_data(sector_etfs, api_key):\n",
    "    full_etf_data = pdr.get_data_tiingo(sector_etfs, start=\"1998-12-22\", end=\"2019-12-31\", api_key=api_key)\n",
    "    full_etf_data.to_csv(\"full etf data.csv\")\n",
    "    \n",
    "    dia = pdr.get_data_tiingo(\"DIA\", start=\"1998-12-22\", end=\"2019-12-31\", api_key=api_key)\n",
    "    dia.reset_index(level=\"symbol\", drop=True, inplace=True)\n",
    "    dia.to_csv(\"dia.csv\")"
   ]
  },
  {
   "cell_type": "code",
   "execution_count": 4,
   "metadata": {
    "scrolled": true
   },
   "outputs": [],
   "source": [
    "download_and_save_data(FULL_ETFS, TIINGO_API_KEY)"
   ]
  },
  {
   "cell_type": "markdown",
   "metadata": {},
   "source": [
    "### Load CSVs and format data for the networks"
   ]
  },
  {
   "cell_type": "code",
   "execution_count": 3,
   "metadata": {},
   "outputs": [],
   "source": [
    "full_etf_data = pd.read_csv(\"full etf data.csv\", index_col=[0,1])\n",
    "dia = pd.read_csv(\"dia.csv\", index_col=0)"
   ]
  },
  {
   "cell_type": "code",
   "execution_count": 4,
   "metadata": {},
   "outputs": [],
   "source": [
    "adj_closes = full_etf_data[\"adjClose\"].unstack(\"symbol\")\n",
    "times = adj_closes.index\n",
    "adj_closes = adj_closes.values\n",
    "percent_changes = 100 * (adj_closes[1:,:]/adj_closes[:-1,:] - 1)"
   ]
  },
  {
   "cell_type": "code",
   "execution_count": 5,
   "metadata": {},
   "outputs": [
    {
     "data": {
      "text/plain": [
       "(4940, 250, 9, 1)"
      ]
     },
     "execution_count": 5,
     "metadata": {},
     "output_type": "execute_result"
    }
   ],
   "source": [
    "# get 3d tensor for daily returns\n",
    "data_length, n_etfs = percent_changes.shape\n",
    "n_entries = data_length - PAST_WINDOW_LENGTH - FUTURE_PREDICTION_TIME + 1\n",
    "\n",
    "daily_windows = np.zeros([n_entries, PAST_WINDOW_LENGTH, n_etfs,1])\n",
    "for i in range(n_entries):\n",
    "    daily_windows[i,:,:,0] = percent_changes[i:(i+PAST_WINDOW_LENGTH),:]\n",
    "\n",
    "daily_windows.shape"
   ]
  },
  {
   "cell_type": "code",
   "execution_count": 6,
   "metadata": {},
   "outputs": [],
   "source": [
    "# get djia returns\n",
    "dia_close = dia[\"adjClose\"].values\n",
    "dia_start = dia_close[(PAST_WINDOW_LENGTH - 1):(n_entries + PAST_WINDOW_LENGTH - 1)]\n",
    "dia_end = dia_close[(PAST_WINDOW_LENGTH + FUTURE_PREDICTION_TIME - 1):(n_entries + PAST_WINDOW_LENGTH + FUTURE_PREDICTION_TIME - 1)]\n",
    "dia_returns = 100*(dia_end/dia_start - 1)"
   ]
  },
  {
   "cell_type": "code",
   "execution_count": 7,
   "metadata": {},
   "outputs": [],
   "source": [
    "# insert pd.cut() call here, then add to_one_hot\n",
    "INCONCLUSIVE_LEVEL = 2.5  # in units of percentage points\n",
    "bins = [-np.Inf, -INCONCLUSIVE_LEVEL, INCONCLUSIVE_LEVEL, np.Inf]\n",
    "classes = [\"Down\", \"Inconclusive\", \"Up\"]\n",
    "dia_return_classes = pd.cut(dia_returns, bins=bins, labels=classes)\n",
    "one_hot_classes = pd.get_dummies(dia_return_classes).values"
   ]
  },
  {
   "cell_type": "code",
   "execution_count": 8,
   "metadata": {},
   "outputs": [
    {
     "data": {
      "text/plain": [
       "Down             916\n",
       "Inconclusive    1217\n",
       "Up              2807\n",
       "dtype: int64"
      ]
     },
     "execution_count": 8,
     "metadata": {},
     "output_type": "execute_result"
    }
   ],
   "source": [
    "# tabulate counts of each class\n",
    "dia_return_classes.value_counts()"
   ]
  },
  {
   "cell_type": "code",
   "execution_count": 9,
   "metadata": {},
   "outputs": [],
   "source": [
    "X_train, X_test, y_train, y_test = train_test_split(daily_windows, one_hot_classes,\n",
    "                                                    stratify=dia_return_classes, random_state=1998)\n",
    "y_true = np.array(classes)[np.argmax(y_test, axis=1)]"
   ]
  },
  {
   "cell_type": "markdown",
   "metadata": {},
   "source": [
    "### Model 1: Fully Connected Layers Only"
   ]
  },
  {
   "cell_type": "code",
   "execution_count": 10,
   "metadata": {
    "scrolled": true
   },
   "outputs": [
    {
     "name": "stdout",
     "output_type": "stream",
     "text": [
      "Epoch 1/10\n",
      "  1/116 [..............................] - ETA: 0s - loss: 2.3796 - accuracy: 0.3438WARNING:tensorflow:Callbacks method `on_train_batch_end` is slow compared to the batch time (batch time: 0.0015s vs `on_train_batch_end` time: 0.0076s). Check your callbacks.\n",
      "116/116 [==============================] - 0s 2ms/step - loss: 1.6350 - accuracy: 0.4227\n",
      "Epoch 2/10\n",
      "116/116 [==============================] - 0s 2ms/step - loss: 1.0355 - accuracy: 0.5420\n",
      "Epoch 3/10\n",
      "116/116 [==============================] - 0s 2ms/step - loss: 0.9037 - accuracy: 0.6119\n",
      "Epoch 4/10\n",
      "116/116 [==============================] - 0s 2ms/step - loss: 0.8172 - accuracy: 0.6486\n",
      "Epoch 5/10\n",
      "116/116 [==============================] - 0s 1ms/step - loss: 0.7668 - accuracy: 0.6788\n",
      "Epoch 6/10\n",
      "116/116 [==============================] - 0s 2ms/step - loss: 0.6772 - accuracy: 0.7255\n",
      "Epoch 7/10\n",
      "116/116 [==============================] - 0s 2ms/step - loss: 0.6318 - accuracy: 0.7441\n",
      "Epoch 8/10\n",
      "116/116 [==============================] - 0s 2ms/step - loss: 0.5462 - accuracy: 0.7792\n",
      "Epoch 9/10\n",
      "116/116 [==============================] - 0s 2ms/step - loss: 0.5030 - accuracy: 0.8032\n",
      "Epoch 10/10\n",
      "116/116 [==============================] - 0s 2ms/step - loss: 0.4506 - accuracy: 0.8335\n"
     ]
    }
   ],
   "source": [
    "tf_seed(1)\n",
    "model1 = keras.Sequential([\n",
    "    keras.Input(shape=[PAST_WINDOW_LENGTH, n_etfs, 1]),\n",
    "    layers.Flatten(),\n",
    "    layers.Dense(200, activation=\"relu\"),\n",
    "    layers.Dropout(0.4),\n",
    "    layers.Dense(100, activation=\"relu\"),\n",
    "    layers.Dropout(0.4),\n",
    "    layers.Dense(3, activation=\"softmax\")\n",
    "])\n",
    "model1.compile('adam', loss='categorical_crossentropy', metrics=['accuracy'])\n",
    "hist1 = model1.fit(X_train, y_train, epochs=10)"
   ]
  },
  {
   "cell_type": "code",
   "execution_count": 34,
   "metadata": {
    "scrolled": false
   },
   "outputs": [
    {
     "name": "stdout",
     "output_type": "stream",
     "text": [
      "Model: \"sequential_4\"\n",
      "_________________________________________________________________\n",
      "Layer (type)                 Output Shape              Param #   \n",
      "=================================================================\n",
      "flatten_4 (Flatten)          (None, 2250)              0         \n",
      "_________________________________________________________________\n",
      "dense_11 (Dense)             (None, 200)               450200    \n",
      "_________________________________________________________________\n",
      "dropout_7 (Dropout)          (None, 200)               0         \n",
      "_________________________________________________________________\n",
      "dense_12 (Dense)             (None, 100)               20100     \n",
      "_________________________________________________________________\n",
      "dropout_8 (Dropout)          (None, 100)               0         \n",
      "_________________________________________________________________\n",
      "dense_13 (Dense)             (None, 3)                 303       \n",
      "=================================================================\n",
      "Total params: 470,603\n",
      "Trainable params: 470,603\n",
      "Non-trainable params: 0\n",
      "_________________________________________________________________\n"
     ]
    }
   ],
   "source": [
    "model1.summary()"
   ]
  },
  {
   "cell_type": "code",
   "execution_count": 11,
   "metadata": {},
   "outputs": [
    {
     "data": {
      "text/plain": [
       "array([[ 10,  31, 188],\n",
       "       [ 12,  38, 254],\n",
       "       [ 40,  88, 574]])"
      ]
     },
     "execution_count": 11,
     "metadata": {},
     "output_type": "execute_result"
    }
   ],
   "source": [
    "m1_predictions = model1.predict(X_test)\n",
    "m1_y_pred = np.array(classes)[np.argmax(m1_predictions, axis=1)]\n",
    "m1_cm = confusion_matrix(y_true, m1_y_pred, labels=classes)\n",
    "m1_cm"
   ]
  },
  {
   "cell_type": "code",
   "execution_count": 12,
   "metadata": {},
   "outputs": [
    {
     "data": {
      "text/html": [
       "<div>\n",
       "<style scoped>\n",
       "    .dataframe tbody tr th:only-of-type {\n",
       "        vertical-align: middle;\n",
       "    }\n",
       "\n",
       "    .dataframe tbody tr th {\n",
       "        vertical-align: top;\n",
       "    }\n",
       "\n",
       "    .dataframe thead th {\n",
       "        text-align: right;\n",
       "    }\n",
       "</style>\n",
       "<table border=\"1\" class=\"dataframe\">\n",
       "  <thead>\n",
       "    <tr style=\"text-align: right;\">\n",
       "      <th></th>\n",
       "      <th>Pred Down</th>\n",
       "      <th>Pred Inconclusive</th>\n",
       "      <th>Pred Up</th>\n",
       "    </tr>\n",
       "  </thead>\n",
       "  <tbody>\n",
       "    <tr>\n",
       "      <th>True Down</th>\n",
       "      <td>10</td>\n",
       "      <td>31</td>\n",
       "      <td>188</td>\n",
       "    </tr>\n",
       "    <tr>\n",
       "      <th>True Inconclusive</th>\n",
       "      <td>12</td>\n",
       "      <td>38</td>\n",
       "      <td>254</td>\n",
       "    </tr>\n",
       "    <tr>\n",
       "      <th>True Up</th>\n",
       "      <td>40</td>\n",
       "      <td>88</td>\n",
       "      <td>574</td>\n",
       "    </tr>\n",
       "  </tbody>\n",
       "</table>\n",
       "</div>"
      ],
      "text/plain": [
       "                   Pred Down  Pred Inconclusive  Pred Up\n",
       "True Down                 10                 31      188\n",
       "True Inconclusive         12                 38      254\n",
       "True Up                   40                 88      574"
      ]
     },
     "execution_count": 12,
     "metadata": {},
     "output_type": "execute_result"
    }
   ],
   "source": [
    "pd.DataFrame(m1_cm, index=[\"True \" + c for c in classes], columns=[\"Pred \" + c for c in classes])"
   ]
  },
  {
   "cell_type": "code",
   "execution_count": 14,
   "metadata": {},
   "outputs": [
    {
     "data": {
      "text/plain": [
       "0.5036437246963563"
      ]
     },
     "execution_count": 14,
     "metadata": {},
     "output_type": "execute_result"
    }
   ],
   "source": [
    "accuracy_score(y_true, m1_y_pred)"
   ]
  },
  {
   "cell_type": "code",
   "execution_count": 15,
   "metadata": {},
   "outputs": [
    {
     "data": {
      "text/plain": [
       "array([0.05020243, 0.12712551, 0.82267206])"
      ]
     },
     "execution_count": 15,
     "metadata": {},
     "output_type": "execute_result"
    }
   ],
   "source": [
    "m1_cm.sum(axis=1)/m1_cm.sum()"
   ]
  },
  {
   "cell_type": "markdown",
   "metadata": {},
   "source": [
    "### Model 2: Minimal CNN, Over All ETFs"
   ]
  },
  {
   "cell_type": "code",
   "execution_count": 16,
   "metadata": {
    "scrolled": true
   },
   "outputs": [
    {
     "name": "stdout",
     "output_type": "stream",
     "text": [
      "Epoch 1/10\n",
      "116/116 [==============================] - 0s 3ms/step - loss: 0.9856 - accuracy: 0.5547\n",
      "Epoch 2/10\n",
      "116/116 [==============================] - 0s 2ms/step - loss: 0.5385 - accuracy: 0.7830\n",
      "Epoch 3/10\n",
      "116/116 [==============================] - 0s 2ms/step - loss: 0.3219 - accuracy: 0.8783\n",
      "Epoch 4/10\n",
      "116/116 [==============================] - 0s 2ms/step - loss: 0.2034 - accuracy: 0.9320\n",
      "Epoch 5/10\n",
      "116/116 [==============================] - 0s 2ms/step - loss: 0.1265 - accuracy: 0.9636\n",
      "Epoch 6/10\n",
      "116/116 [==============================] - 0s 2ms/step - loss: 0.0787 - accuracy: 0.9849\n",
      "Epoch 7/10\n",
      "116/116 [==============================] - 0s 2ms/step - loss: 0.0441 - accuracy: 0.9954\n",
      "Epoch 8/10\n",
      "116/116 [==============================] - 0s 2ms/step - loss: 0.0234 - accuracy: 0.9995\n",
      "Epoch 9/10\n",
      "116/116 [==============================] - 0s 2ms/step - loss: 0.0142 - accuracy: 1.0000\n",
      "Epoch 10/10\n",
      "116/116 [==============================] - 0s 3ms/step - loss: 0.0095 - accuracy: 1.0000\n"
     ]
    }
   ],
   "source": [
    "tf_seed(2)\n",
    "model2 = keras.Sequential([\n",
    "    keras.Input(shape=[PAST_WINDOW_LENGTH, n_etfs, 1]),\n",
    "    layers.Conv2D(40, kernel_size=(30,9), activation=\"relu\"),\n",
    "    layers.Flatten(),\n",
    "    layers.Dense(3, activation=\"softmax\")\n",
    "])\n",
    "model2.compile('adam', loss='categorical_crossentropy', metrics=['accuracy'])\n",
    "hist2 = model2.fit(X_train, y_train, epochs=10)"
   ]
  },
  {
   "cell_type": "code",
   "execution_count": 17,
   "metadata": {},
   "outputs": [
    {
     "name": "stdout",
     "output_type": "stream",
     "text": [
      "Model: \"sequential_1\"\n",
      "_________________________________________________________________\n",
      "Layer (type)                 Output Shape              Param #   \n",
      "=================================================================\n",
      "conv2d (Conv2D)              (None, 221, 1, 40)        10840     \n",
      "_________________________________________________________________\n",
      "flatten_1 (Flatten)          (None, 8840)              0         \n",
      "_________________________________________________________________\n",
      "dense_3 (Dense)              (None, 3)                 26523     \n",
      "=================================================================\n",
      "Total params: 37,363\n",
      "Trainable params: 37,363\n",
      "Non-trainable params: 0\n",
      "_________________________________________________________________\n"
     ]
    }
   ],
   "source": [
    "model2.summary()"
   ]
  },
  {
   "cell_type": "code",
   "execution_count": 18,
   "metadata": {},
   "outputs": [
    {
     "data": {
      "text/plain": [
       "array([[167,  55,   7],\n",
       "       [ 35, 189,  80],\n",
       "       [  6,  45, 651]])"
      ]
     },
     "execution_count": 18,
     "metadata": {},
     "output_type": "execute_result"
    }
   ],
   "source": [
    "m2_predictions = model2.predict(X_test)\n",
    "m2_y_pred = np.array(classes)[np.argmax(m2_predictions, axis=1)]\n",
    "m2_cm = confusion_matrix(y_true, m2_y_pred, labels=classes)\n",
    "m2_cm"
   ]
  },
  {
   "cell_type": "code",
   "execution_count": 19,
   "metadata": {},
   "outputs": [
    {
     "data": {
      "text/html": [
       "<div>\n",
       "<style scoped>\n",
       "    .dataframe tbody tr th:only-of-type {\n",
       "        vertical-align: middle;\n",
       "    }\n",
       "\n",
       "    .dataframe tbody tr th {\n",
       "        vertical-align: top;\n",
       "    }\n",
       "\n",
       "    .dataframe thead th {\n",
       "        text-align: right;\n",
       "    }\n",
       "</style>\n",
       "<table border=\"1\" class=\"dataframe\">\n",
       "  <thead>\n",
       "    <tr style=\"text-align: right;\">\n",
       "      <th></th>\n",
       "      <th>Pred Down</th>\n",
       "      <th>Pred Inconclusive</th>\n",
       "      <th>Pred Up</th>\n",
       "    </tr>\n",
       "  </thead>\n",
       "  <tbody>\n",
       "    <tr>\n",
       "      <th>True Down</th>\n",
       "      <td>167</td>\n",
       "      <td>55</td>\n",
       "      <td>7</td>\n",
       "    </tr>\n",
       "    <tr>\n",
       "      <th>True Inconclusive</th>\n",
       "      <td>35</td>\n",
       "      <td>189</td>\n",
       "      <td>80</td>\n",
       "    </tr>\n",
       "    <tr>\n",
       "      <th>True Up</th>\n",
       "      <td>6</td>\n",
       "      <td>45</td>\n",
       "      <td>651</td>\n",
       "    </tr>\n",
       "  </tbody>\n",
       "</table>\n",
       "</div>"
      ],
      "text/plain": [
       "                   Pred Down  Pred Inconclusive  Pred Up\n",
       "True Down                167                 55        7\n",
       "True Inconclusive         35                189       80\n",
       "True Up                    6                 45      651"
      ]
     },
     "execution_count": 19,
     "metadata": {},
     "output_type": "execute_result"
    }
   ],
   "source": [
    "pd.DataFrame(m2_cm, index=[\"True \" + c for c in classes], columns=[\"Pred \" + c for c in classes])"
   ]
  },
  {
   "cell_type": "code",
   "execution_count": 20,
   "metadata": {},
   "outputs": [
    {
     "data": {
      "text/plain": [
       "array([0.80288462, 0.65397924, 0.88211382])"
      ]
     },
     "execution_count": 20,
     "metadata": {},
     "output_type": "execute_result"
    }
   ],
   "source": [
    "m2_cm.diagonal()/m2_cm.sum(axis=0)"
   ]
  },
  {
   "cell_type": "code",
   "execution_count": 21,
   "metadata": {},
   "outputs": [
    {
     "data": {
      "text/plain": [
       "0.8153846153846154"
      ]
     },
     "execution_count": 21,
     "metadata": {},
     "output_type": "execute_result"
    }
   ],
   "source": [
    "accuracy_score(y_true, m2_y_pred)"
   ]
  },
  {
   "cell_type": "code",
   "execution_count": 22,
   "metadata": {},
   "outputs": [],
   "source": [
    "w = model2.layers[0].weights\n",
    "z = w[0].numpy()"
   ]
  },
  {
   "cell_type": "code",
   "execution_count": 23,
   "metadata": {},
   "outputs": [
    {
     "data": {
      "image/png": "[encoded data removed]",
      "text/plain": [
       "<Figure size 1476x684 with 40 Axes>"
      ]
     },
     "metadata": {},
     "output_type": "display_data"
    }
   ],
   "source": [
    "for i in range(40):\n",
    "    plt.subplot(8,5,i+1)\n",
    "    plt.imshow(z[:,:,0,i].transpose(), cmap='hot')\n",
    "    plt.title(\"\")\n",
    "    plt.xticks([])\n",
    "    plt.yticks([])\n",
    "\n",
    "plt.subplots_adjust(left=0, right=0.5, bottom=0, top=0.6)\n",
    "fig = plt.gcf()\n",
    "fig.set_size_inches(20.5, 9.5)\n",
    "fig.savefig('features.png')"
   ]
  },
  {
   "cell_type": "code",
   "execution_count": 24,
   "metadata": {},
   "outputs": [],
   "source": [
    "m2_outputs = [layer.output for layer in model2.layers]\n",
    "activation_model = Model(inputs=model2.input, outputs=m2_outputs)\n",
    "activations = activation_model.predict(X_train[0,:,:,:].reshape(1,250,9,1))"
   ]
  },
  {
   "cell_type": "code",
   "execution_count": 35,
   "metadata": {},
   "outputs": [],
   "source": [
    "def display_activation1(activations, col_size, row_size, act_index, fig_name=\"figure.png\"): \n",
    "    activation = activations[act_index]\n",
    "    activation_index=0\n",
    "    fig, ax = plt.subplots(row_size, col_size, figsize=(row_size*2.5,col_size*1.5))\n",
    "    for row in range(0,row_size):\n",
    "        for col in range(0,col_size):\n",
    "            ax[row][col].imshow(activation[0, :, :, activation_index].reshape(17,13), cmap='gray')\n",
    "            activation_index += 1\n",
    "    fig.savefig(fig_name)"
   ]
  },
  {
   "cell_type": "code",
   "execution_count": 36,
   "metadata": {},
   "outputs": [
    {
     "data": {
      "image/png": "[encoded data removed]",
      "text/plain": [
       "<Figure size 900x864 with 40 Axes>"
      ]
     },
     "metadata": {
      "needs_background": "light"
     },
     "output_type": "display_data"
    }
   ],
   "source": [
    "display_activation1(activations, 8, 5, 0, fig_name=\"m2_activations.png\")"
   ]
  },
  {
   "cell_type": "markdown",
   "metadata": {},
   "source": [
    "### Model 3: Bigger CNN, Not Over All ETFs"
   ]
  },
  {
   "cell_type": "code",
   "execution_count": 29,
   "metadata": {},
   "outputs": [
    {
     "name": "stdout",
     "output_type": "stream",
     "text": [
      "Epoch 1/10\n",
      "116/116 [==============================] - 2s 22ms/step - loss: 0.9965 - accuracy: 0.5646\n",
      "Epoch 2/10\n",
      "116/116 [==============================] - 2s 17ms/step - loss: 0.7788 - accuracy: 0.6529\n",
      "Epoch 3/10\n",
      "116/116 [==============================] - 2s 17ms/step - loss: 0.4907 - accuracy: 0.8054\n",
      "Epoch 4/10\n",
      "116/116 [==============================] - 2s 17ms/step - loss: 0.3396 - accuracy: 0.8707\n",
      "Epoch 5/10\n",
      "116/116 [==============================] - 2s 18ms/step - loss: 0.2641 - accuracy: 0.8999\n",
      "Epoch 6/10\n",
      "116/116 [==============================] - 2s 17ms/step - loss: 0.2167 - accuracy: 0.9177\n",
      "Epoch 7/10\n",
      "116/116 [==============================] - 2s 18ms/step - loss: 0.1761 - accuracy: 0.9293\n",
      "Epoch 8/10\n",
      "116/116 [==============================] - 2s 17ms/step - loss: 0.1549 - accuracy: 0.9344\n",
      "Epoch 9/10\n",
      "116/116 [==============================] - 2s 17ms/step - loss: 0.1251 - accuracy: 0.9514\n",
      "Epoch 10/10\n",
      "116/116 [==============================] - 2s 17ms/step - loss: 0.0960 - accuracy: 0.9644\n"
     ]
    }
   ],
   "source": [
    "tf_seed(3)\n",
    "model3 = keras.Sequential([\n",
    "    keras.Input(shape=[PAST_WINDOW_LENGTH, n_etfs, 1]),\n",
    "    layers.Conv2D(40, kernel_size=(5,3), padding=\"same\", activation=\"relu\"),\n",
    "    layers.MaxPool2D(pool_size=(2,1)),\n",
    "    layers.Conv2D(80, kernel_size=(5,2), padding=\"same\", activation=\"relu\"),\n",
    "    layers.MaxPool2D(pool_size=(2,1)),\n",
    "    layers.Conv2D(120, kernel_size=(5,2), padding=\"same\", activation=\"relu\"),\n",
    "    layers.MaxPool2D(pool_size=(2,1)),\n",
    "    layers.Flatten(),\n",
    "    layers.Dense(3, activation=\"softmax\")\n",
    "])\n",
    "model3.compile('adam', loss='categorical_crossentropy', metrics=['accuracy'])\n",
    "hist3 = model3.fit(X_train, y_train, epochs=10)"
   ]
  },
  {
   "cell_type": "code",
   "execution_count": 30,
   "metadata": {
    "scrolled": true
   },
   "outputs": [
    {
     "name": "stdout",
     "output_type": "stream",
     "text": [
      "Model: \"sequential_2\"\n",
      "_________________________________________________________________\n",
      "Layer (type)                 Output Shape              Param #   \n",
      "=================================================================\n",
      "conv2d_1 (Conv2D)            (None, 250, 9, 40)        640       \n",
      "_________________________________________________________________\n",
      "max_pooling2d (MaxPooling2D) (None, 125, 9, 40)        0         \n",
      "_________________________________________________________________\n",
      "conv2d_2 (Conv2D)            (None, 125, 9, 80)        32080     \n",
      "_________________________________________________________________\n",
      "max_pooling2d_1 (MaxPooling2 (None, 62, 9, 80)         0         \n",
      "_________________________________________________________________\n",
      "conv2d_3 (Conv2D)            (None, 62, 9, 120)        96120     \n",
      "_________________________________________________________________\n",
      "max_pooling2d_2 (MaxPooling2 (None, 31, 9, 120)        0         \n",
      "_________________________________________________________________\n",
      "flatten_2 (Flatten)          (None, 33480)             0         \n",
      "_________________________________________________________________\n",
      "dense_4 (Dense)              (None, 3)                 100443    \n",
      "=================================================================\n",
      "Total params: 229,283\n",
      "Trainable params: 229,283\n",
      "Non-trainable params: 0\n",
      "_________________________________________________________________\n"
     ]
    }
   ],
   "source": [
    "model3.summary()"
   ]
  },
  {
   "cell_type": "code",
   "execution_count": 31,
   "metadata": {},
   "outputs": [
    {
     "data": {
      "text/plain": [
       "array([[212,  17,   0],\n",
       "       [ 35, 221,  48],\n",
       "       [  0,  29, 673]])"
      ]
     },
     "execution_count": 31,
     "metadata": {},
     "output_type": "execute_result"
    }
   ],
   "source": [
    "m3_predictions = model3.predict(X_test)\n",
    "m3_y_pred = np.array(classes)[np.argmax(m3_predictions, axis=1)]\n",
    "m3_cm = confusion_matrix(y_true, m3_y_pred, labels=classes)\n",
    "m3_cm"
   ]
  },
  {
   "cell_type": "code",
   "execution_count": 32,
   "metadata": {},
   "outputs": [
    {
     "data": {
      "text/html": [
       "<div>\n",
       "<style scoped>\n",
       "    .dataframe tbody tr th:only-of-type {\n",
       "        vertical-align: middle;\n",
       "    }\n",
       "\n",
       "    .dataframe tbody tr th {\n",
       "        vertical-align: top;\n",
       "    }\n",
       "\n",
       "    .dataframe thead th {\n",
       "        text-align: right;\n",
       "    }\n",
       "</style>\n",
       "<table border=\"1\" class=\"dataframe\">\n",
       "  <thead>\n",
       "    <tr style=\"text-align: right;\">\n",
       "      <th></th>\n",
       "      <th>Pred Down</th>\n",
       "      <th>Pred Inconclusive</th>\n",
       "      <th>Pred Up</th>\n",
       "    </tr>\n",
       "  </thead>\n",
       "  <tbody>\n",
       "    <tr>\n",
       "      <th>True Down</th>\n",
       "      <td>212</td>\n",
       "      <td>17</td>\n",
       "      <td>0</td>\n",
       "    </tr>\n",
       "    <tr>\n",
       "      <th>True Inconclusive</th>\n",
       "      <td>35</td>\n",
       "      <td>221</td>\n",
       "      <td>48</td>\n",
       "    </tr>\n",
       "    <tr>\n",
       "      <th>True Up</th>\n",
       "      <td>0</td>\n",
       "      <td>29</td>\n",
       "      <td>673</td>\n",
       "    </tr>\n",
       "  </tbody>\n",
       "</table>\n",
       "</div>"
      ],
      "text/plain": [
       "                   Pred Down  Pred Inconclusive  Pred Up\n",
       "True Down                212                 17        0\n",
       "True Inconclusive         35                221       48\n",
       "True Up                    0                 29      673"
      ]
     },
     "execution_count": 32,
     "metadata": {},
     "output_type": "execute_result"
    }
   ],
   "source": [
    "pd.DataFrame(m3_cm, index=[\"True \" + c for c in classes], columns=[\"Pred \" + c for c in classes])"
   ]
  },
  {
   "cell_type": "code",
   "execution_count": 33,
   "metadata": {},
   "outputs": [
    {
     "data": {
      "text/plain": [
       "array([0.8582996 , 0.82771536, 0.9334258 ])"
      ]
     },
     "execution_count": 33,
     "metadata": {},
     "output_type": "execute_result"
    }
   ],
   "source": [
    "m3_cm.diagonal()/m3_cm.sum(axis=0)"
   ]
  },
  {
   "cell_type": "code",
   "execution_count": 34,
   "metadata": {},
   "outputs": [
    {
     "data": {
      "text/plain": [
       "0.8955465587044534"
      ]
     },
     "execution_count": 34,
     "metadata": {},
     "output_type": "execute_result"
    }
   ],
   "source": [
    "accuracy_score(y_true, m3_y_pred)"
   ]
  },
  {
   "cell_type": "code",
   "execution_count": 76,
   "metadata": {},
   "outputs": [],
   "source": [
    "m3_outputs = [layer.output for layer in model3.layers]\n",
    "m3_activation_model = Model(inputs=model3.input, outputs=m3_outputs)"
   ]
  },
  {
   "cell_type": "code",
   "execution_count": 80,
   "metadata": {},
   "outputs": [],
   "source": [
    "m3_activations = m3_activation_model.predict(X_train[98,:,:,:].reshape(1,250,9,1))"
   ]
  },
  {
   "cell_type": "code",
   "execution_count": 81,
   "metadata": {},
   "outputs": [
    {
     "data": {
      "image/png": "[encoded data removed]",
      "text/plain": [
       "<Figure size 1116x684 with 6 Axes>"
      ]
     },
     "metadata": {},
     "output_type": "display_data"
    }
   ],
   "source": [
    "for i in range(6):\n",
    "    plt.subplot(6,1,i+1)\n",
    "    plt.imshow(m3_activations[0][0,:,:,i].transpose(), cmap='hot')\n",
    "    plt.title(\"\")\n",
    "    plt.xticks([])\n",
    "    plt.yticks([])\n",
    "\n",
    "fig = plt.gcf()\n",
    "fig.set_size_inches(15.5, 9.5)\n",
    "fig.savefig('m3_activations.png')\n",
    "plt.show()"
   ]
  }
 ],
 "metadata": {
  "kernelspec": {
   "display_name": "Python 3",
   "language": "python",
   "name": "python3"
  },
  "language_info": {
   "codemirror_mode": {
    "name": "ipython",
    "version": 3
   },
   "file_extension": ".py",
   "mimetype": "text/x-python",
   "name": "python",
   "nbconvert_exporter": "python",
   "pygments_lexer": "ipython3",
   "version": "3.8.2"
  }
 },
 "nbformat": 4,
 "nbformat_minor": 2
}
